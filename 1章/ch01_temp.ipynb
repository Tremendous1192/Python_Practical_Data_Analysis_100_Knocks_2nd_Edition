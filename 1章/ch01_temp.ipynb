{
 "cells": [
  {
   "cell_type": "markdown",
   "metadata": {},
   "source": [
    "# 第1部 基礎編: データ加工"
   ]
  },
  {
   "cell_type": "markdown",
   "metadata": {},
   "source": [
    "## 第1章 ウェブからの注文数を分析する10本ノック"
   ]
  },
  {
   "cell_type": "markdown",
   "metadata": {},
   "source": [
    "### ノック1: データを読み込んでみよう"
   ]
  },
  {
   "cell_type": "markdown",
   "metadata": {},
   "source": [
    "ここでは、ある企業のECサイトでの商品の注文数の推移を分析していきます。  \n",
    "データの属性を理解し、分析をするためにデータを加工した後、  \n",
    "データの可視化を行うことで問題を発見していくプロセスを学びます。"
   ]
  },
  {
   "cell_type": "code",
   "execution_count": null,
   "metadata": {},
   "outputs": [],
   "source": [
    "import polars as pl"
   ]
  },
  {
   "cell_type": "code",
   "execution_count": null,
   "metadata": {},
   "outputs": [],
   "source": [
    "# 列表示を省略しない\n",
    "pl.Config.set_tbl_cols(-1)\n",
    "# 行の表示を省略しない\n",
    "pl.Config.set_tbl_rows(-1)"
   ]
  },
  {
   "cell_type": "markdown",
   "metadata": {},
   "source": [
    "#### 顧客マスター\n",
    "\n",
    "| 列名 | データ例 | データ型 | 列の説明 |\n",
    "| ---- | ---- | ---- | ---- |\n",
    "| customer_id        | IK152942                    | str | 顧客ID |\n",
    "| customer_name      | 平田 裕次郎                 | str | 顧客名 |\n",
    "| registration_date  | 2019-01-01 00:25:33         | str | 登録日時 |\n",
    "| customer_name_kana | ひらた ゆうじろう           | str | 顧客名(ひらがな) |\n",
    "| email              | hirata_yuujirou@example.com | str | メールアドレス |\n",
    "| gender             | M                           | str | 性別 |\n",
    "| age                | 29                          | i64 | 年齢 |\n",
    "| birth              | 1990/6/10                   | str | 誕生日 |\n",
    "| pref               | 石川県                      | str | 県 |"
   ]
  },
  {
   "cell_type": "code",
   "execution_count": null,
   "metadata": {},
   "outputs": [],
   "source": [
    "customer_master = pl.read_csv(\"customer_master.csv\")\n",
    "customer_master.head()"
   ]
  },
  {
   "cell_type": "code",
   "execution_count": null,
   "metadata": {},
   "outputs": [],
   "source": [
    "#データ説明の表を作成するためDataFrameを転置する\n",
    "#print(customer_master.head(1).transpose(include_header = True))"
   ]
  },
  {
   "cell_type": "markdown",
   "metadata": {},
   "source": [
    "#### 製品マスター\n",
    "\n",
    "| 列名 | データ例 | データ型 | 列の説明 |\n",
    "| ---- | ---- | ---- | ---- |\n",
    "| item_id    | S001     | str | 製品ID |\n",
    "| item_name  | PC-A     | str | 製品名 |\n",
    "| item_price | 50000    | i64 | 価格 |"
   ]
  },
  {
   "cell_type": "code",
   "execution_count": null,
   "metadata": {},
   "outputs": [],
   "source": [
    "item_master = pl.read_csv(\"item_master.csv\")\n",
    "item_master.head()"
   ]
  },
  {
   "cell_type": "code",
   "execution_count": null,
   "metadata": {},
   "outputs": [],
   "source": [
    "#データ説明の表を作成するためDataFrameを転置する\n",
    "#print(item_master.head(1).transpose(include_header = True))"
   ]
  },
  {
   "cell_type": "markdown",
   "metadata": {},
   "source": [
    "#### 購入明細データ\n",
    "\n",
    "| 列名 | データ例 | データ型 | 列の説明 |\n",
    "| ---- | ---- | ---- | ---- |\n",
    "| transaction_id | T0000000113         | str | 購入明細ID |\n",
    "| price          | 210000              | i64 | 購入価格 |\n",
    "| payment_date   | 2019-02-01 01:36:57 | ste | 購入日時 |\n",
    "| customer_id    | PL563502            | str | 顧客ID |"
   ]
  },
  {
   "cell_type": "code",
   "execution_count": null,
   "metadata": {},
   "outputs": [],
   "source": [
    "transaction_1 = pl.read_csv(\"transaction_1.csv\")\n",
    "transaction_1.head()"
   ]
  },
  {
   "cell_type": "code",
   "execution_count": null,
   "metadata": {},
   "outputs": [],
   "source": [
    "#データ説明の表を作成するためDataFrameを転置する\n",
    "#print(transaction_1.head(1).transpose(include_header = True))"
   ]
  },
  {
   "cell_type": "markdown",
   "metadata": {},
   "source": [
    "#### 購入明細の詳細データ\n",
    "\n",
    "| 列名 | データ例 | データ型 | 列の説明 |\n",
    "| ---- | ---- | ---- | ---- |\n",
    "| detail_id      | 0           | i64 | 詳細ID |\n",
    "| transaction_id | T0000000113 | str | 明細ID |\n",
    "| item_id        | S005        | str | 製品ID |\n",
    "| quantity       | 1           | i64 | 数量 |"
   ]
  },
  {
   "cell_type": "code",
   "execution_count": null,
   "metadata": {},
   "outputs": [],
   "source": [
    "transaction_detail_1 = pl.read_csv(\"transaction_detail_1.csv\")\n",
    "transaction_detail_1.head()"
   ]
  },
  {
   "cell_type": "code",
   "execution_count": null,
   "metadata": {},
   "outputs": [],
   "source": [
    "#データ説明の表を作成するためDataFrameを転置する\n",
    "#print(transaction_detail_1.head(1).transpose(include_header = True))"
   ]
  },
  {
   "cell_type": "code",
   "execution_count": null,
   "metadata": {},
   "outputs": [],
   "source": [
    "# 当然だが、複数の商品を同時に計算しているため、\n",
    "# 購入明細の金額は Σ(製品価格)(数量) で計算される\n",
    "transaction_detail_1\\\n",
    "    .pivot(values = \"quantity\", index = \"transaction_id\", columns = \"item_id\", aggregate_function = \"count\", sort_columns = True, maintain_order = True)\\\n",
    "        .filter( pl.col(\"transaction_id\") == \"T0000000231\")\n",
    "#transaction_detail_1[[\"transaction_id\", \"item_id\"]].unique().sort(by = [\"transaction_id\"])"
   ]
  },
  {
   "cell_type": "markdown",
   "metadata": {},
   "source": [
    "### ノック２：データを結合(ユニオン)してみよう"
   ]
  },
  {
   "cell_type": "code",
   "execution_count": null,
   "metadata": {},
   "outputs": [],
   "source": [
    "transaction_2 = pl.read_csv(\"transaction_2.csv\")\n",
    "transaction_2.head()"
   ]
  },
  {
   "cell_type": "code",
   "execution_count": null,
   "metadata": {},
   "outputs": [],
   "source": [
    "transaction = pl.concat([transaction_1, transaction_2], how = \"vertical\")\n",
    "transaction.head()"
   ]
  },
  {
   "cell_type": "code",
   "execution_count": null,
   "metadata": {},
   "outputs": [],
   "source": [
    "print(len(transaction_1))\n",
    "print(len(transaction_2))\n",
    "print(len(transaction_1) + len(transaction_2))\n",
    "print(len(transaction))"
   ]
  },
  {
   "cell_type": "code",
   "execution_count": null,
   "metadata": {},
   "outputs": [],
   "source": [
    "transaction_detail_2 = pl.read_csv(\"transaction_detail_2.csv\")\n",
    "transaction_detail = pl.concat([transaction_detail_1, transaction_detail_2], how = \"vertical\")\n",
    "transaction_detail.head()"
   ]
  },
  {
   "cell_type": "markdown",
   "metadata": {},
   "source": [
    "### ノック３：売上データ同士を結合(ジョイン)してみよう"
   ]
  },
  {
   "cell_type": "code",
   "execution_count": null,
   "metadata": {},
   "outputs": [],
   "source": [
    "join_data = transaction_detail.join(\n",
    "    other = transaction[[\"transaction_id\", \"payment_date\", \"customer_id\"]],\n",
    "    on = \"transaction_id\",\n",
    "    how = \"left\")\n",
    "join_data.head()"
   ]
  },
  {
   "cell_type": "code",
   "execution_count": null,
   "metadata": {},
   "outputs": [],
   "source": [
    "print(len(transaction_detail))\n",
    "print(len(transaction))\n",
    "print(len(join_data))"
   ]
  },
  {
   "cell_type": "markdown",
   "metadata": {},
   "source": [
    "### ノック４：マスタデータを結合(ジョイン)してみよう"
   ]
  },
  {
   "cell_type": "code",
   "execution_count": null,
   "metadata": {},
   "outputs": [],
   "source": [
    "join_data = join_data.join(\n",
    "    other = customer_master,\n",
    "    on = \"customer_id\",\n",
    "    how = \"left\")\n",
    "join_data = join_data.join(\n",
    "    other = item_master,\n",
    "    on = \"item_id\",\n",
    "    how = \"left\")\n",
    "join_data.head()"
   ]
  },
  {
   "cell_type": "markdown",
   "metadata": {},
   "source": [
    "### ノック5：必要なデータ列を作ろう"
   ]
  },
  {
   "cell_type": "code",
   "execution_count": null,
   "metadata": {},
   "outputs": [],
   "source": [
    "join_data = join_data.with_columns([\n",
    "    (join_data[\"quantity\"] * join_data[\"item_price\"]).alias(\"price\")\n",
    "])\n",
    "join_data[[\"quantity\", \"item_price\", \"price\"]].head()"
   ]
  },
  {
   "cell_type": "markdown",
   "metadata": {},
   "source": [
    "### ノック6：データ検算をしよう"
   ]
  },
  {
   "cell_type": "code",
   "execution_count": null,
   "metadata": {},
   "outputs": [],
   "source": [
    "print(join_data[\"price\"].sum())\n",
    "print(transaction[\"price\"].sum())"
   ]
  },
  {
   "cell_type": "code",
   "execution_count": null,
   "metadata": {},
   "outputs": [],
   "source": [
    "join_data[\"price\"].sum() == transaction[\"price\"].sum()"
   ]
  },
  {
   "cell_type": "markdown",
   "metadata": {},
   "source": [
    "### ノック7：各種統計量を把握しよう"
   ]
  },
  {
   "cell_type": "code",
   "execution_count": null,
   "metadata": {},
   "outputs": [],
   "source": [
    "# pandasのjoin_data.isnull.sum()と同じ結果を得る\n",
    "join_data.null_count()"
   ]
  },
  {
   "cell_type": "code",
   "execution_count": null,
   "metadata": {},
   "outputs": [],
   "source": [
    "#pandas.describe()と同じ結果を得る\n",
    "import polars.selectors as cs\n",
    "join_data.select(cs.numeric()).describe()"
   ]
  },
  {
   "cell_type": "code",
   "execution_count": null,
   "metadata": {},
   "outputs": [],
   "source": [
    "print(join_data[\"payment_date\"].min())\n",
    "print(join_data[\"payment_date\"].max())"
   ]
  },
  {
   "cell_type": "markdown",
   "metadata": {},
   "source": [
    "### ノック8：月別でデータを集計してみよう"
   ]
  },
  {
   "cell_type": "code",
   "execution_count": null,
   "metadata": {},
   "outputs": [],
   "source": [
    "join_data.dtypes"
   ]
  },
  {
   "cell_type": "code",
   "execution_count": null,
   "metadata": {},
   "outputs": [],
   "source": [
    "join_data = join_data\\\n",
    "    .replace(\"payment_date\",\n",
    "             join_data[\"payment_date\"].str.strptime(dtype = pl.Datetime, format = \"%Y-%m-%d %H:%M:%S\"))\n",
    "join_data = join_data.with_columns([\n",
    "    pl.col(\"payment_date\").dt.strftime(\"%Y%m\").cast(dtype = pl.Int64).alias(\"payment_month\")\n",
    "])\n",
    "join_data[[\"payment_date\", \"payment_month\"]].head()"
   ]
  },
  {
   "cell_type": "code",
   "execution_count": null,
   "metadata": {},
   "outputs": [],
   "source": [
    "join_data.group_by(by = [\"payment_month\"]).agg( pl.col(\"price\").sum() ).sort(\"payment_month\")"
   ]
  },
  {
   "cell_type": "markdown",
   "metadata": {},
   "source": [
    "### ノック9：月別、商品別でデータを集計してみよう"
   ]
  },
  {
   "cell_type": "code",
   "execution_count": null,
   "metadata": {},
   "outputs": [],
   "source": [
    "join_data.group_by(by = [\"payment_month\", \"item_name\"]).agg( pl.col(\"price\").sum(), pl.col(\"quantity\").sum() ).sort([\"payment_month\", \"item_name\"])"
   ]
  },
  {
   "cell_type": "code",
   "execution_count": null,
   "metadata": {},
   "outputs": [],
   "source": [
    "join_data.pivot(values = [\"price\", \"quantity\"], index = \"item_name\", columns = \"payment_month\", aggregate_function = \"sum\", maintain_order = True, sort_columns = True)"
   ]
  },
  {
   "cell_type": "markdown",
   "metadata": {},
   "source": [
    "### ノック10：商品別の売上推移を可視化してみよう"
   ]
  },
  {
   "cell_type": "code",
   "execution_count": null,
   "metadata": {},
   "outputs": [],
   "source": [
    "import pandas as pd\n",
    "graph_data = pd.pivot_table(join_data.to_pandas(), index = \"payment_month\", columns = \"item_name\", values = \"price\", aggfunc = \"sum\")\n",
    "graph_data.head()"
   ]
  },
  {
   "cell_type": "code",
   "execution_count": null,
   "metadata": {},
   "outputs": [],
   "source": [
    "import matplotlib .pyplot as plt\n",
    "%matplotlib inline\n",
    "plt.plot(list(graph_data.index), graph_data[\"PC-A\"], label = \"PC-A\")\n",
    "plt.plot(list(graph_data.index), graph_data[\"PC-B\"], label = \"PC-B\")\n",
    "plt.plot(list(graph_data.index), graph_data[\"PC-C\"], label = \"PC-C\")\n",
    "plt.plot(list(graph_data.index), graph_data[\"PC-D\"], label = \"PC-D\")\n",
    "plt.plot(list(graph_data.index), graph_data[\"PC-E\"], label = \"PC-E\")\n",
    "plt.legend()"
   ]
  }
 ],
 "metadata": {
  "kernelspec": {
   "display_name": "Python 3",
   "language": "python",
   "name": "python3"
  },
  "language_info": {
   "codemirror_mode": {
    "name": "ipython",
    "version": 3
   },
   "file_extension": ".py",
   "mimetype": "text/x-python",
   "name": "python",
   "nbconvert_exporter": "python",
   "pygments_lexer": "ipython3",
   "version": "3.11.4"
  }
 },
 "nbformat": 4,
 "nbformat_minor": 2
}
